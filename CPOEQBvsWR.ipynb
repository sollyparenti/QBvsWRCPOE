{
 "cells": [
  {
   "cell_type": "code",
   "execution_count": 1,
   "metadata": {},
   "outputs": [],
   "source": [
    "'''\n",
    "Setting out to answer the question, is CPOE a more sticky stat for\n",
    "receivers or for quarterbacks using nflfastr data. For the years 2016,2017,2018,2019, we're gonna\n",
    "look at a players CPOE for that year and the previous year.  We will compare the correlation for \n",
    "quarterback year to year CPOE and receiver year to year CPOE.  \n",
    "'''\n",
    "\n",
    "import pandas as pd\n",
    "import numpy as np\n",
    "import matplotlib.pyplot as plt\n",
    "pd.set_option('display.max_columns', 300)"
   ]
  },
  {
   "cell_type": "code",
   "execution_count": 2,
   "metadata": {},
   "outputs": [],
   "source": [
    "first_year = 2016\n",
    "last_year = 2019"
   ]
  },
  {
   "cell_type": "code",
   "execution_count": 3,
   "metadata": {},
   "outputs": [],
   "source": [
    "YEARS = range(first_year,last_year + 1)\n",
    "data = pd.DataFrame()\n",
    "\n",
    "for i in YEARS:  \n",
    "    i_data = pd.read_csv('https://github.com/guga31bb/nflfastR-data/blob/master/data/' \\\n",
    "                         'play_by_play_' + str(i) + '.csv.gz?raw=True',\n",
    "                         compression='gzip', low_memory=False)\n",
    "\n",
    "    data = data.append(i_data, sort=True)\n",
    "data.reset_index(drop=True, inplace=True)\n",
    "data.drop(['passer_player_name', 'passer_player_id',\n",
    "           'rusher_player_name', 'rusher_player_id',\n",
    "           'receiver_player_name', 'receiver_player_id'],\n",
    "          axis=1, inplace=True)\n",
    "data = data.loc[data.season_type=='REG']\n",
    "data = data.loc[(data.play_type.isin(['no_play','pass','run'])) & (data.epa.isna()==False)]\n",
    "pd.options.mode.chained_assignment = None\n",
    "data['play_type'].loc[data['pass']==1] = 'pass'\n",
    "data['play_type'].loc[data['rush']==1] = 'run'\n"
   ]
  },
  {
   "cell_type": "code",
   "execution_count": 4,
   "metadata": {},
   "outputs": [
    {
     "data": {
      "text/plain": [
       "0.38452848209058554"
      ]
     },
     "execution_count": 4,
     "metadata": {},
     "output_type": "execute_result"
    }
   ],
   "source": [
    "qbs = (data.groupby(['passer','posteam','season'], as_index=False)\n",
    "       .agg({'play_id':'count','cpoe':'mean'}))\n",
    "qbs = qbs.loc[qbs.play_id > 200]\n",
    "qbs['prev_cpoe'] = qbs['cpoe'].shift(1)\n",
    "qbs['years_of_data'] = qbs.groupby('passer').cumcount()\n",
    "qbs = qbs.loc[qbs.years_of_data != 0]\n",
    "\n",
    "qbs['cpoe'].corr(qbs['prev_cpoe'])"
   ]
  },
  {
   "cell_type": "code",
   "execution_count": 5,
   "metadata": {},
   "outputs": [
    {
     "data": {
      "text/plain": [
       "0.2838608034055531"
      ]
     },
     "execution_count": 5,
     "metadata": {},
     "output_type": "execute_result"
    }
   ],
   "source": [
    "wrs = (data.groupby(['receiver','posteam','season'], as_index=False)\n",
    "       .agg({'play_id':'count','cpoe':'mean'}))\n",
    "wrs = wrs.loc[wrs.play_id > 50]\n",
    "wrs['prev_cpoe'] = wrs['cpoe'].shift(1)\n",
    "wrs['years_of_data'] = wrs.groupby('receiver').cumcount()\n",
    "wrs = wrs.loc[wrs.years_of_data != 0]\n",
    "wrs['cpoe'].corr(wrs['prev_cpoe'])"
   ]
  },
  {
   "cell_type": "code",
   "execution_count": 6,
   "metadata": {},
   "outputs": [],
   "source": [
    "'''\n",
    "Okay.  Cool. So it looks like CPOE is more correlated to qb play than to receiver play.\n",
    "\n",
    "But what about for the better guys? Like what if we take guys that are in the top half of cpoe.\n",
    "'''\n",
    "n = qbs.shape[0]"
   ]
  },
  {
   "cell_type": "code",
   "execution_count": 10,
   "metadata": {},
   "outputs": [],
   "source": [
    "num_of_qbs = qbs.shape[0]\n",
    "num_of_wrs = wrs.shape[0]\n",
    "qbs.sort_values(by='prev_cpoe',ascending=False,inplace=True)\n",
    "wrs.sort_values(by='prev_cpoe',ascending=False,inplace=True)\n",
    "topqbs = qbs.drop(qbs.tail(num_of_qbs // 2).index)\n",
    "topwrs = wrs.drop(wrs.tail(num_of_wrs // 2).index)"
   ]
  },
  {
   "cell_type": "code",
   "execution_count": 11,
   "metadata": {},
   "outputs": [
    {
     "data": {
      "text/plain": [
       "0.32664123182119487"
      ]
     },
     "execution_count": 11,
     "metadata": {},
     "output_type": "execute_result"
    }
   ],
   "source": [
    "topqbs['cpoe'].corr(topqbs['prev_cpoe'])"
   ]
  },
  {
   "cell_type": "code",
   "execution_count": 12,
   "metadata": {},
   "outputs": [
    {
     "data": {
      "text/plain": [
       "0.3606290727504052"
      ]
     },
     "execution_count": 12,
     "metadata": {},
     "output_type": "execute_result"
    }
   ],
   "source": [
    "topwrs['cpoe'].corr(topwrs['prev_cpoe'])"
   ]
  },
  {
   "cell_type": "code",
   "execution_count": null,
   "metadata": {},
   "outputs": [],
   "source": []
  },
  {
   "cell_type": "code",
   "execution_count": null,
   "metadata": {},
   "outputs": [],
   "source": []
  }
 ],
 "metadata": {
  "kernelspec": {
   "display_name": "Python 3",
   "language": "python",
   "name": "python3"
  },
  "language_info": {
   "codemirror_mode": {
    "name": "ipython",
    "version": 3
   },
   "file_extension": ".py",
   "mimetype": "text/x-python",
   "name": "python",
   "nbconvert_exporter": "python",
   "pygments_lexer": "ipython3",
   "version": "3.7.6"
  }
 },
 "nbformat": 4,
 "nbformat_minor": 4
}
